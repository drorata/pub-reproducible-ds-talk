{
 "cells": [
  {
   "cell_type": "code",
   "execution_count": null,
   "metadata": {
    "collapsed": true,
    "slideshow": {
     "slide_type": "skip"
    }
   },
   "outputs": [],
   "source": [
    "import pandas as pd\n",
    "import numpy as np\n",
    "import hashlib"
   ]
  },
  {
   "cell_type": "code",
   "execution_count": null,
   "metadata": {
    "slideshow": {
     "slide_type": "skip"
    }
   },
   "outputs": [],
   "source": [
    "from traitlets.config.manager import BaseJSONConfigManager\n",
    "path = \"/Users/drorata/.jupyter/nbconfig\"\n",
    "cm = BaseJSONConfigManager(config_dir=path)\n",
    "cm.update('livereveal', {\n",
    "              'theme': 'simple',\n",
    "              'transition': 'zoom',\n",
    "              'start_slideshow_at': 'selected',\n",
    "})"
   ]
  },
  {
   "cell_type": "markdown",
   "metadata": {
    "slideshow": {
     "slide_type": "slide"
    }
   },
   "source": [
    "# Reproducible DS work\n",
    "\n",
    "Dr. Dror Atariah, drorata@gmail.com"
   ]
  },
  {
   "cell_type": "markdown",
   "metadata": {
    "slideshow": {
     "slide_type": "slide"
    }
   },
   "source": [
    "# Outline\n",
    "\n",
    "* Challenges in reproducible DS work\n",
    "* Hashing code *and* data\n",
    "* Docker to rescue?\n",
    "* DS project as a Python package"
   ]
  },
  {
   "cell_type": "markdown",
   "metadata": {
    "slideshow": {
     "slide_type": "slide"
    }
   },
   "source": [
    "# Challenges"
   ]
  },
  {
   "cell_type": "markdown",
   "metadata": {
    "slideshow": {
     "slide_type": "subslide"
    }
   },
   "source": [
    "## DS project ingredients (Naive)\n",
    "\n",
    "* Code\n",
    "* Data"
   ]
  },
  {
   "cell_type": "markdown",
   "metadata": {
    "slideshow": {
     "slide_type": "subslide"
    }
   },
   "source": [
    "## DS project ingredients (Reality)\n",
    "\n",
    "* Code (`git`)\n",
    "* Notebooks (?)\n",
    "* Data (?)\n",
    "* Environment (`virtualenv`, `conda-env`, `docker`?)"
   ]
  },
  {
   "cell_type": "markdown",
   "metadata": {
    "slideshow": {
     "slide_type": "slide"
    }
   },
   "source": [
    "# Hashing `pandas.DataFrame` (Naive)\n",
    "\n",
    "**_Idea_:** Convert to bytes stream and hash"
   ]
  },
  {
   "cell_type": "markdown",
   "metadata": {
    "slideshow": {
     "slide_type": "subslide"
    }
   },
   "source": [
    "## $\\mathbb{R}, \\mathbb{N}$ and so on..."
   ]
  },
  {
   "cell_type": "code",
   "execution_count": null,
   "metadata": {
    "collapsed": true,
    "slideshow": {
     "slide_type": "fragment"
    }
   },
   "outputs": [],
   "source": [
    "np.random.seed(42)\n",
    "arr = np.random.choice([41, 43, 42], size=(3,3))\n",
    "df = pd.DataFrame(arr)"
   ]
  },
  {
   "cell_type": "code",
   "execution_count": null,
   "metadata": {
    "slideshow": {
     "slide_type": "fragment"
    }
   },
   "outputs": [],
   "source": [
    "np.array_equal(df.values, arr)"
   ]
  },
  {
   "cell_type": "code",
   "execution_count": null,
   "metadata": {
    "slideshow": {
     "slide_type": "fragment"
    }
   },
   "outputs": [],
   "source": [
    "print(hashlib.sha256(arr.tobytes()).hexdigest())"
   ]
  },
  {
   "cell_type": "code",
   "execution_count": null,
   "metadata": {
    "slideshow": {
     "slide_type": "fragment"
    }
   },
   "outputs": [],
   "source": [
    "print(hashlib.sha256(df.values.tobytes()).hexdigest())"
   ]
  },
  {
   "cell_type": "markdown",
   "metadata": {
    "slideshow": {
     "slide_type": "subslide"
    }
   },
   "source": [
    "## And strings?"
   ]
  },
  {
   "cell_type": "code",
   "execution_count": null,
   "metadata": {
    "slideshow": {
     "slide_type": "fragment"
    }
   },
   "outputs": [],
   "source": [
    "np.random.seed(42)\n",
    "arr = np.random.choice(['foo', 'bar', 42], size=(3,3))\n",
    "df = pd.DataFrame(arr)\n",
    "print(arr)\n",
    "print(df)\n",
    "print(hashlib.sha256(arr.tobytes()).hexdigest())\n",
    "print(hashlib.sha256(df.values.tobytes()).hexdigest())\n",
    "# NOTE:\n",
    "print(np.array_equal(arr, df.values))"
   ]
  },
  {
   "cell_type": "markdown",
   "metadata": {
    "slideshow": {
     "slide_type": "subslide"
    }
   },
   "source": [
    "## Workaround"
   ]
  },
  {
   "cell_type": "code",
   "execution_count": null,
   "metadata": {
    "slideshow": {
     "slide_type": "fragment"
    }
   },
   "outputs": [],
   "source": [
    "np.random.seed(42)\n",
    "arr = np.random.choice(['foo', 'bar', 42], size=(3,3))\n",
    "df = pd.DataFrame(arr)\n",
    "print(arr)\n",
    "print(df)\n",
    "print(hashlib.sha256(arr.tobytes()).hexdigest())\n",
    "print(hashlib.sha256(df.values.tobytes()).hexdigest())\n",
    "print(hashlib.sha256(df.to_json().encode()).hexdigest())\n",
    "print(hashlib.sha256(df.to_csv().encode()).hexdigest())"
   ]
  },
  {
   "cell_type": "markdown",
   "metadata": {
    "slideshow": {
     "slide_type": "subslide"
    }
   },
   "source": [
    "## Pythonic solution\n",
    "\n",
    "As of version 0.20 (and maybe earlier)"
   ]
  },
  {
   "cell_type": "code",
   "execution_count": null,
   "metadata": {
    "collapsed": true,
    "slideshow": {
     "slide_type": "fragment"
    }
   },
   "outputs": [],
   "source": [
    "from pandas.util import hash_pandas_object"
   ]
  },
  {
   "cell_type": "code",
   "execution_count": null,
   "metadata": {
    "slideshow": {
     "slide_type": "fragment"
    }
   },
   "outputs": [],
   "source": [
    "np.random.seed(42)\n",
    "arr = np.random.choice(['foo', 'bar', 42], size=(3,3))\n",
    "df = pd.DataFrame(arr)\n",
    "hash_pandas_object(df)"
   ]
  },
  {
   "cell_type": "markdown",
   "metadata": {
    "slideshow": {
     "slide_type": "subslide"
    }
   },
   "source": [
    "## Usage example\n",
    "\n",
    "When persisting a DataFrame, you can use the hash:"
   ]
  },
  {
   "cell_type": "code",
   "execution_count": null,
   "metadata": {
    "collapsed": true,
    "slideshow": {
     "slide_type": "fragment"
    }
   },
   "outputs": [],
   "source": [
    "from hashlib import sha256\n",
    "\n",
    "def persist_df(df, path=None, sql=None):\n",
    "    df_hash = sha256(raw_df.to_json().encode()).hexdigest()\n",
    "    base_filename = 'raw_df_{}_{}'.format(\n",
    "        pd.datetime.now().isoformat().replace(\":\",\"-\").replace(\".\",\"-\"),\n",
    "        df_hash)\n",
    "    if path is not None:\n",
    "        base_filename = path + base_filename\n",
    "    raw_df.to_pickle(base_filename+'.pickle')\n",
    "    with open(base_filename+\".sql\", \"w\") as sql_file:\n",
    "        print(query, file=sql_file)"
   ]
  },
  {
   "cell_type": "markdown",
   "metadata": {
    "slideshow": {
     "slide_type": "slide"
    }
   },
   "source": [
    "# Can Docker help?"
   ]
  },
  {
   "cell_type": "markdown",
   "metadata": {
    "slideshow": {
     "slide_type": "subslide"
    }
   },
   "source": [
    "Jump to [GitHub](https://github.com/drorata/mwe-jupyter-docker)"
   ]
  },
  {
   "cell_type": "markdown",
   "metadata": {
    "slideshow": {
     "slide_type": "slide"
    }
   },
   "source": [
    "# DS project as Python package"
   ]
  },
  {
   "cell_type": "markdown",
   "metadata": {
    "slideshow": {
     "slide_type": "subslide"
    }
   },
   "source": [
    "Minimal example in [GitHub](https://github.com/drorata/minimal-ds-project)"
   ]
  },
  {
   "cell_type": "markdown",
   "metadata": {
    "slideshow": {
     "slide_type": "subslide"
    }
   },
   "source": [
    "More resources:\n",
    "    \n",
    "* [cookiecutter-data-science](https://drivendata.github.io/cookiecutter-data-science/)\n",
    "* [dataversioncontrol](https://github.com/dataversioncontrol/dvc)\n",
    "* [MS - Team Data Science Processes](https://github.com/Azure/Microsoft-TDSP)\n",
    "* [anaconda-enterprise-notebooks](https://www.continuum.io/anaconda-enterprise-notebooks)"
   ]
  }
 ],
 "metadata": {
  "celltoolbar": "Slideshow",
  "kernelspec": {
   "display_name": "Python [conda root]",
   "language": "python",
   "name": "conda-root-py"
  },
  "language_info": {
   "codemirror_mode": {
    "name": "ipython",
    "version": 3
   },
   "file_extension": ".py",
   "mimetype": "text/x-python",
   "name": "python",
   "nbconvert_exporter": "python",
   "pygments_lexer": "ipython3",
   "version": "3.6.1"
  }
 },
 "nbformat": 4,
 "nbformat_minor": 2
}
